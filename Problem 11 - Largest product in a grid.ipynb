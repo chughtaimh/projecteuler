{
 "cells": [
  {
   "cell_type": "markdown",
   "metadata": {},
   "source": [
    "In the 20×20 grid below, four numbers along a diagonal line have been marked in red."
   ]
  },
  {
   "cell_type": "markdown",
   "metadata": {},
   "source": [
    "<img src=\"files/project_eleven_snip.PNG\">"
   ]
  },
  {
   "cell_type": "markdown",
   "metadata": {},
   "source": [
    "The product of these numbers is 26 × 63 × 78 × 14 = 1788696.\n",
    "\n",
    "What is the greatest product of four adjacent numbers in the same direction (up, down, left, right, or diagonally) in the 20×20 grid?\n"
   ]
  },
  {
   "cell_type": "code",
   "execution_count": 1,
   "metadata": {
    "collapsed": false
   },
   "outputs": [],
   "source": [
    "nums = [[8,2,22,97,38,15,0,40,0,75,4,5,7,78,52,12,50,77,91,8],\n",
    "        [49,49,99,40,17,81,18,57,60,87,17,40,98,43,69,48,4,56,62,0],\n",
    "        [81,49,31,73,55,79,14,29,93,71,40,67,53,88,30,3,49,13,36,65],\n",
    "        [52,70,95,23,4,60,11,42,69,24,68,56,1,32,56,71,37,2,36,91],\n",
    "        [22,31,16,71,51,67,63,89,41,92,36,54,22,40,40,28,66,33,13,80],\n",
    "        [24,47,32,60,99,3,45,2,44,75,33,53,78,36,84,20,35,17,12,50],\n",
    "        [32,98,81,28,64,23,67,10,26,38,40,67,59,54,70,66,18,38,64,70],\n",
    "        [67,26,20,68,2,62,12,20,95,63,94,39,63,8,40,91,66,49,94,21],\n",
    "        [24,55,58,5,66,73,99,26,97,17,78,78,96,83,14,88,34,89,63,72],\n",
    "        [21,36,23,9,75,0,76,44,20,45,35,14,0,61,33,97,34,31,33,95],\n",
    "        [78,17,53,28,22,75,31,67,15,94,3,80,4,62,16,14,9,53,56,92],\n",
    "        [16,39,5,42,96,35,31,47,55,58,88,24,0,17,54,24,36,29,85,57],\n",
    "        [86,56,0,48,35,71,89,7,5,44,44,37,44,60,21,58,51,54,17,58],\n",
    "        [19,80,81,68,5,94,47,69,28,73,92,13,86,52,17,77,4,89,55,40],\n",
    "        [4,52,8,83,97,35,99,16,7,97,57,32,16,26,26,79,33,27,98,66],\n",
    "        [88,36,68,87,57,62,20,72,3,46,33,67,46,55,12,32,63,93,53,69],\n",
    "        [4,42,16,73,38,25,39,11,24,94,72,18,8,46,29,32,40,62,76,36],\n",
    "        [20,69,36,41,72,30,23,88,34,62,99,69,82,67,59,85,74,4,36,16],\n",
    "        [20,73,35,29,78,31,90,1,74,31,49,71,48,86,81,16,23,57,5,54],\n",
    "        [1,70,54,71,83,51,54,69,16,92,33,48,61,43,52,1,89,19,67,48]]"
   ]
  },
  {
   "cell_type": "markdown",
   "metadata": {},
   "source": [
    "Approach: for each square in the grid, check up, down, left, right, diagonally and take the max sum of all 6 directions. Finally take the max of all squares."
   ]
  },
  {
   "cell_type": "code",
   "execution_count": 2,
   "metadata": {
    "collapsed": false
   },
   "outputs": [],
   "source": [
    "from operator import mul\n",
    "def analyze_square(tuple):\n",
    "    sub = []\n",
    "    prod = 0\n",
    "    \n",
    "    r = tuple[0]\n",
    "    c = tuple[1]\n",
    "    \n",
    "    # Check Top\n",
    "    try:\n",
    "        if reduce(mul,[nums[i][c] for i in range(r,r-4,-1)]) > prod:\n",
    "            sub = [nums[i][c] for i in range(r,r-4,-1)]\n",
    "            prod = reduce(mul,sub)\n",
    "    except:pass\n",
    "    \n",
    "    # Check Bottom\n",
    "    try:\n",
    "        if reduce(mul,[nums[i][c] for i in range(r,r+4,1)]) > prod:\n",
    "            sub = [nums[i][c] for i in range(r,r+4,1)]\n",
    "            prod = reduce(mul,sub)            \n",
    "    except:pass\n",
    "    \n",
    "    # Check right\n",
    "    try:\n",
    "        if reduce(mul,[nums[r][i] for i in range(c,c-4,-1)]) > prod:\n",
    "            sub = [nums[r][i] for i in range(c,c-4,-1)]\n",
    "            prod = reduce(mul,sub)\n",
    "    except:pass\n",
    "\n",
    "    # Check left\n",
    "    try:\n",
    "        if reduce(mul,[nums[r][i] for i in range(c,c-4,-1)]) > prod:\n",
    "            sub = [nums[r][i] for i in range(c,c-4,-1)]\n",
    "            prod = reduce(mul,sub)\n",
    "    except:pass\n",
    "\n",
    "    # Check top-left\n",
    "    try:\n",
    "        if reduce(mul,[nums[r+i][c-i] for i in range(4)]) > prod:\n",
    "            sub = [nums[r+i][c-i] for i in range(4)]\n",
    "            prod = reduce(mul,sub)\n",
    "    except:pass\n",
    "\n",
    "    # Check top-right\n",
    "    try:\n",
    "        if reduce(mul,[nums[r+i][c+i] for i in range(4)]) > prod:\n",
    "            sub = [nums[r+i][c+i] for i in range(4)]\n",
    "            prod = reduce(mul,sub)\n",
    "    except:pass\n",
    "\n",
    "    # Check bottom-right\n",
    "    try:\n",
    "        if reduce(mul,[nums[r-i][c+i] for i in range(4)]) > prod:\n",
    "            sub = [nums[r+i][c+i] for i in range(4)]\n",
    "            prod = reduce(mul,sub)\n",
    "    except:pass\n",
    "\n",
    "    # Check bottom-left\n",
    "    try:\n",
    "        if reduce(mul,[nums[r-i][c-i] for i in range(4)]) > prod:\n",
    "            sub = [nums[r+i][c-i] for i in range(4)]\n",
    "            prod = reduce(mul,sub)\n",
    "    except:pass\n",
    "    return sub"
   ]
  },
  {
   "cell_type": "code",
   "execution_count": 3,
   "metadata": {
    "collapsed": false
   },
   "outputs": [],
   "source": [
    "def get_squares(grid): return [(r,c) \\\n",
    "                               for r,y in enumerate(grid) \\\n",
    "                               for c,x in enumerate(y)]"
   ]
  },
  {
   "cell_type": "code",
   "execution_count": 4,
   "metadata": {
    "collapsed": false
   },
   "outputs": [],
   "source": [
    "def analyze_all_squares(grid): return map(analyze_square,get_squares(grid))"
   ]
  },
  {
   "cell_type": "code",
   "execution_count": 5,
   "metadata": {
    "collapsed": true
   },
   "outputs": [],
   "source": [
    "def largest_prod(list_of_lists):return max([(reduce(mul,lst),lst) for lst in list_of_lists if len(lst)>0])"
   ]
  },
  {
   "cell_type": "code",
   "execution_count": 6,
   "metadata": {
    "collapsed": false
   },
   "outputs": [
    {
     "data": {
      "text/plain": [
       "(70600674, [89, 94, 97, 87])"
      ]
     },
     "execution_count": 6,
     "metadata": {},
     "output_type": "execute_result"
    }
   ],
   "source": [
    "largest_prod(analyze_all_squares(nums))"
   ]
  },
  {
   "cell_type": "code",
   "execution_count": 7,
   "metadata": {
    "collapsed": false
   },
   "outputs": [
    {
     "name": "stdout",
     "output_type": "stream",
     "text": [
      "         9246 function calls in 0.027 seconds\n",
      "\n",
      "   Ordered by: standard name\n",
      "\n",
      "   ncalls  tottime  percall  cumtime  percall filename:lineno(function)\n",
      "      400    0.000    0.000    0.000    0.000 :0(len)\n",
      "        1    0.001    0.001    0.025    0.025 :0(map)\n",
      "        1    0.000    0.000    0.000    0.000 :0(max)\n",
      "     4187    0.005    0.000    0.005    0.000 :0(range)\n",
      "     4251    0.006    0.000    0.006    0.000 :0(reduce)\n",
      "        1    0.000    0.000    0.000    0.000 :0(setprofile)\n",
      "      400    0.014    0.000    0.025    0.000 <ipython-input-2-d9a18bee7196>:2(analyze_square)\n",
      "        1    0.000    0.000    0.000    0.000 <ipython-input-3-49204422226c>:1(get_squares)\n",
      "        1    0.000    0.000    0.026    0.026 <ipython-input-4-51c8a9e45b57>:1(analyze_all_squares)\n",
      "        1    0.001    0.001    0.001    0.001 <ipython-input-5-b14afd803264>:1(largest_prod)\n",
      "        1    0.000    0.000    0.027    0.027 <string>:1(<module>)\n",
      "        1    0.000    0.000    0.027    0.027 profile:0(largest_prod(analyze_all_squares(nums)))\n",
      "        0    0.000             0.000          profile:0(profiler)\n",
      "\n",
      "\n"
     ]
    }
   ],
   "source": [
    "import profile\n",
    "profile.run('largest_prod(analyze_all_squares(nums))')"
   ]
  }
 ],
 "metadata": {
  "kernelspec": {
   "display_name": "Python 2",
   "language": "python",
   "name": "python2"
  },
  "language_info": {
   "codemirror_mode": {
    "name": "ipython",
    "version": 2
   },
   "file_extension": ".py",
   "mimetype": "text/x-python",
   "name": "python",
   "nbconvert_exporter": "python",
   "pygments_lexer": "ipython2",
   "version": "2.7.11"
  }
 },
 "nbformat": 4,
 "nbformat_minor": 0
}

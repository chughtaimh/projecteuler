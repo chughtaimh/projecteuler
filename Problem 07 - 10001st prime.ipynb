{
 "cells": [
  {
   "cell_type": "markdown",
   "metadata": {},
   "source": [
    "By listing the first six prime numbers: 2, 3, 5, 7, 11, and 13, we can see that the 6th prime is 13.\n",
    "\n",
    "What is the 10 001st prime number?\n",
    "\n"
   ]
  },
  {
   "cell_type": "code",
   "execution_count": 1,
   "metadata": {
    "collapsed": true
   },
   "outputs": [],
   "source": [
    "def factors(n):\n",
    "    return set(reduce(list.__add__,\n",
    "                     ([[x] for x in range(1,int(n**.5)+1) if n%x==0])))"
   ]
  },
  {
   "cell_type": "code",
   "execution_count": 203,
   "metadata": {
    "collapsed": false
   },
   "outputs": [],
   "source": [
    "def is_prime(n): return n if 2 in [n,pow(2, n, n)] else None"
   ]
  },
  {
   "cell_type": "code",
   "execution_count": 223,
   "metadata": {
    "collapsed": false
   },
   "outputs": [],
   "source": [
    "def get_nth_prime(n): \n",
    "    counter = i = 0\n",
    "    while counter <= n-1:\n",
    "        i += 1\n",
    "        if is_prime(i):\n",
    "            counter += 1\n",
    "    return i"
   ]
  },
  {
   "cell_type": "code",
   "execution_count": 224,
   "metadata": {
    "collapsed": false
   },
   "outputs": [
    {
     "data": {
      "text/plain": [
       "103903"
      ]
     },
     "execution_count": 224,
     "metadata": {},
     "output_type": "execute_result"
    }
   ],
   "source": [
    "get_nth_prime(10001)"
   ]
  },
  {
   "cell_type": "code",
   "execution_count": 225,
   "metadata": {
    "collapsed": false
   },
   "outputs": [
    {
     "name": "stdout",
     "output_type": "stream",
     "text": [
      "         207810 function calls in 0.458 seconds\n",
      "\n",
      "   Ordered by: standard name\n",
      "\n",
      "   ncalls  tottime  percall  cumtime  percall filename:lineno(function)\n",
      "   103903    0.247    0.000    0.247    0.000 :0(pow)\n",
      "        1    0.000    0.000    0.000    0.000 :0(setprofile)\n",
      "   103903    0.138    0.000    0.386    0.000 <ipython-input-203-a56c5ae8f5b4>:1(is_prime)\n",
      "        1    0.072    0.072    0.458    0.458 <ipython-input-223-5a0525b83ff3>:1(get_nth_prime)\n",
      "        1    0.000    0.000    0.458    0.458 <string>:1(<module>)\n",
      "        1    0.000    0.000    0.458    0.458 profile:0(get_nth_prime(10001))\n",
      "        0    0.000             0.000          profile:0(profiler)\n",
      "\n",
      "\n"
     ]
    }
   ],
   "source": [
    "from profile import run\n",
    "run('get_nth_prime(10001)')"
   ]
  },
  {
   "cell_type": "code",
   "execution_count": null,
   "metadata": {
    "collapsed": true
   },
   "outputs": [],
   "source": []
  }
 ],
 "metadata": {
  "kernelspec": {
   "display_name": "Python 2",
   "language": "python",
   "name": "python2"
  },
  "language_info": {
   "codemirror_mode": {
    "name": "ipython",
    "version": 2
   },
   "file_extension": ".py",
   "mimetype": "text/x-python",
   "name": "python",
   "nbconvert_exporter": "python",
   "pygments_lexer": "ipython2",
   "version": "2.7.11"
  }
 },
 "nbformat": 4,
 "nbformat_minor": 0
}

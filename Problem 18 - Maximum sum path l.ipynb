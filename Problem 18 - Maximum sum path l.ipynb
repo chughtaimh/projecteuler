{
 "cells": [
  {
   "cell_type": "markdown",
   "metadata": {},
   "source": [
    "By starting at the top of the triangle below and moving to adjacent numbers on the row below, the maximum total from top to bottom is 23.\n",
    "\n",
    "3\n",
    "\n",
    "7 4\n",
    "\n",
    "2 4 6\n",
    "\n",
    "8 5 9 3\n",
    "\n",
    "That is, 3 + 7 + 4 + 9 = 23.\n",
    "\n",
    "Find the maximum total from top to bottom of the triangle below:\n",
    "\n",
    "75\n",
    "\n",
    "95 64\n",
    "\n",
    "17 47 82\n",
    "\n",
    "18 35 87 10\n",
    "\n",
    "20 04 82 47 65\n",
    "\n",
    "19 01 23 75 03 34\n",
    "\n",
    "88 02 77 73 07 63 67\n",
    "\n",
    "99 65 04 28 06 16 70 92\n",
    "\n",
    "41 41 26 56 83 40 80 70 33\n",
    "\n",
    "41 48 72 33 47 32 37 16 94 29\n",
    "\n",
    "53 71 44 65 25 43 91 52 97 51 14\n",
    "\n",
    "70 11 33 28 77 73 17 78 39 68 17 57\n",
    "\n",
    "91 71 52 38 17 14 91 43 58 50 27 29 48\n",
    "\n",
    "63 66 04 68 89 53 67 30 73 16 69 87 40 31\n",
    "\n",
    "04 62 98 27 23 09 70 98 73 93 38 53 60 04 23\n",
    "\n",
    "\n",
    "NOTE: As there are only 16384 routes, it is possible to solve this problem by trying every route. However, Problem 67, is the same challenge with a triangle containing one-hundred rows; it cannot be solved by brute force, and requires a clever method! ;o)\n",
    "\n"
   ]
  },
  {
   "cell_type": "markdown",
   "metadata": {},
   "source": [
    " "
   ]
  },
  {
   "cell_type": "code",
   "execution_count": 1,
   "metadata": {
    "collapsed": false
   },
   "outputs": [],
   "source": [
    "triangle_string = \"\"\"75\n",
    "95 64\n",
    "17 47 82\n",
    "18 35 87 10\n",
    "20 04 82 47 65\n",
    "19 01 23 75 03 34\n",
    "88 02 77 73 07 63 67\n",
    "99 65 04 28 06 16 70 92\n",
    "41 41 26 56 83 40 80 70 33\n",
    "41 48 72 33 47 32 37 16 94 29\n",
    "53 71 44 65 25 43 91 52 97 51 14\n",
    "70 11 33 28 77 73 17 78 39 68 17 57\n",
    "91 71 52 38 17 14 91 43 58 50 27 29 48\n",
    "63 66 04 68 89 53 67 30 73 16 69 87 40 31\n",
    "04 62 98 27 23 09 70 98 73 93 38 53 60 04 23\n",
    "\"\"\""
   ]
  },
  {
   "cell_type": "code",
   "execution_count": 2,
   "metadata": {
    "collapsed": false
   },
   "outputs": [
    {
     "data": {
      "text/plain": [
       "[[4, 62, 98, 27, 23, 9, 70, 98, 73, 93, 38, 53, 60, 4, 23, 0],\n",
       " [63, 66, 4, 68, 89, 53, 67, 30, 73, 16, 69, 87, 40, 31, 0, 0],\n",
       " [91, 71, 52, 38, 17, 14, 91, 43, 58, 50, 27, 29, 48, 0, 0, 0],\n",
       " [70, 11, 33, 28, 77, 73, 17, 78, 39, 68, 17, 57, 0, 0, 0, 0],\n",
       " [53, 71, 44, 65, 25, 43, 91, 52, 97, 51, 14, 0, 0, 0, 0, 0],\n",
       " [41, 48, 72, 33, 47, 32, 37, 16, 94, 29, 0, 0, 0, 0, 0, 0],\n",
       " [41, 41, 26, 56, 83, 40, 80, 70, 33, 0, 0, 0, 0, 0, 0, 0],\n",
       " [99, 65, 4, 28, 6, 16, 70, 92, 0, 0, 0, 0, 0, 0, 0, 0],\n",
       " [88, 2, 77, 73, 7, 63, 67, 0, 0, 0, 0, 0, 0, 0, 0, 0],\n",
       " [19, 1, 23, 75, 3, 34, 0, 0, 0, 0, 0, 0, 0, 0, 0, 0],\n",
       " [20, 4, 82, 47, 65, 0, 0, 0, 0, 0, 0, 0, 0, 0, 0, 0],\n",
       " [18, 35, 87, 10, 0, 0, 0, 0, 0, 0, 0, 0, 0, 0, 0, 0],\n",
       " [17, 47, 82, 0, 0, 0, 0, 0, 0, 0, 0, 0, 0, 0, 0, 0],\n",
       " [95, 64, 0, 0, 0, 0, 0, 0, 0, 0, 0, 0, 0, 0, 0, 0],\n",
       " [75, 0, 0, 0, 0, 0, 0, 0, 0, 0, 0, 0, 0, 0, 0, 0]]"
      ]
     },
     "execution_count": 2,
     "metadata": {},
     "output_type": "execute_result"
    }
   ],
   "source": [
    "triangle = [map(int, line.split()) for line in triangle_string.splitlines()[::-1]]\n",
    "for i, line in enumerate(triangle):\n",
    "    line.extend([0]*(i+1))\n",
    "    \n",
    "triangle"
   ]
  },
  {
   "cell_type": "code",
   "execution_count": 3,
   "metadata": {
    "collapsed": false
   },
   "outputs": [
    {
     "name": "stdout",
     "output_type": "stream",
     "text": [
      "Wall time: 0 ns\n"
     ]
    }
   ],
   "source": [
    "%time\n",
    "for row, line in enumerate(triangle):\n",
    "    if row != 0:\n",
    "        for i, number in enumerate(line[:-1]):\n",
    "            triangle[row][i] += triangle[row-1][max([i, i+1], key=lambda x: triangle[row-1][x])]"
   ]
  }
 ],
 "metadata": {
  "kernelspec": {
   "display_name": "Python 2",
   "language": "python",
   "name": "python2"
  },
  "language_info": {
   "codemirror_mode": {
    "name": "ipython",
    "version": 2
   },
   "file_extension": ".py",
   "mimetype": "text/x-python",
   "name": "python",
   "nbconvert_exporter": "python",
   "pygments_lexer": "ipython2",
   "version": "2.7.11"
  }
 },
 "nbformat": 4,
 "nbformat_minor": 0
}

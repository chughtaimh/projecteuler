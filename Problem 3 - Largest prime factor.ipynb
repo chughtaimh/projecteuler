{
 "cells": [
  {
   "cell_type": "markdown",
   "metadata": {},
   "source": [
    "The prime factors of 13195 are 5, 7, 13 and 29.\n",
    "\n",
    "What is the largest prime factor of the number 600851475143 ?"
   ]
  },
  {
   "cell_type": "code",
   "execution_count": 1,
   "metadata": {
    "collapsed": true
   },
   "outputs": [],
   "source": [
    "from __future__ import division\n",
    "a = 600851475143"
   ]
  },
  {
   "cell_type": "code",
   "execution_count": 2,
   "metadata": {
    "collapsed": false
   },
   "outputs": [],
   "source": [
    "def factors(n):\n",
    "    return set(reduce(list.__add__,\n",
    "                     ([[x] for x in range(1,int(n**.5)+1) if n%x==0])))"
   ]
  },
  {
   "cell_type": "code",
   "execution_count": 3,
   "metadata": {
    "collapsed": false
   },
   "outputs": [],
   "source": [
    "def is_prime(n): return n if 2 in [n,pow(2, n, n)] else None"
   ]
  },
  {
   "cell_type": "code",
   "execution_count": 4,
   "metadata": {
    "collapsed": false
   },
   "outputs": [],
   "source": [
    "def get_primes(n): return [x for x in map(is_prime,factors(n)) if x]"
   ]
  },
  {
   "cell_type": "code",
   "execution_count": 5,
   "metadata": {
    "collapsed": false
   },
   "outputs": [],
   "source": [
    "def max_factor(n,iterable): return max([x for x in iterable if n%x==0])"
   ]
  },
  {
   "cell_type": "code",
   "execution_count": 6,
   "metadata": {
    "collapsed": false
   },
   "outputs": [],
   "source": [
    "def largest_prime_factor(n): return max_factor(n,get_primes(n))"
   ]
  },
  {
   "cell_type": "code",
   "execution_count": 7,
   "metadata": {
    "collapsed": false
   },
   "outputs": [
    {
     "data": {
      "text/plain": [
       "6857"
      ]
     },
     "execution_count": 7,
     "metadata": {},
     "output_type": "execute_result"
    }
   ],
   "source": [
    "largest_prime_factor(a)"
   ]
  },
  {
   "cell_type": "code",
   "execution_count": 8,
   "metadata": {
    "collapsed": false
   },
   "outputs": [
    {
     "name": "stdout",
     "output_type": "stream",
     "text": [
      "         27 function calls in 0.177 seconds\n",
      "\n",
      "   Ordered by: standard name\n",
      "\n",
      "   ncalls  tottime  percall  cumtime  percall filename:lineno(function)\n",
      "        1    0.000    0.000    0.000    0.000 :0(map)\n",
      "        1    0.000    0.000    0.000    0.000 :0(max)\n",
      "        8    0.000    0.000    0.000    0.000 :0(pow)\n",
      "        1    0.012    0.012    0.012    0.012 :0(range)\n",
      "        1    0.000    0.000    0.000    0.000 :0(reduce)\n",
      "        1    0.000    0.000    0.000    0.000 :0(setprofile)\n",
      "        1    0.163    0.163    0.176    0.176 <ipython-input-2-33098b2e2968>:1(factors)\n",
      "        8    0.000    0.000    0.000    0.000 <ipython-input-3-a56c5ae8f5b4>:1(is_prime)\n",
      "        1    0.000    0.000    0.176    0.176 <ipython-input-4-7cb6536fb6bc>:1(get_primes)\n",
      "        1    0.000    0.000    0.000    0.000 <ipython-input-5-515159c8c418>:1(max_factor)\n",
      "        1    0.000    0.000    0.176    0.176 <ipython-input-6-03cdb3fc267f>:1(largest_prime_factor)\n",
      "        1    0.000    0.000    0.176    0.176 <string>:1(<module>)\n",
      "        1    0.001    0.001    0.177    0.177 profile:0(largest_prime_factor(a))\n",
      "        0    0.000             0.000          profile:0(profiler)\n",
      "\n",
      "\n"
     ]
    }
   ],
   "source": [
    "import profile\n",
    "profile.run('largest_prime_factor(a)')"
   ]
  }
 ],
 "metadata": {
  "kernelspec": {
   "display_name": "Python 2",
   "language": "python",
   "name": "python2"
  },
  "language_info": {
   "codemirror_mode": {
    "name": "ipython",
    "version": 2
   },
   "file_extension": ".py",
   "mimetype": "text/x-python",
   "name": "python",
   "nbconvert_exporter": "python",
   "pygments_lexer": "ipython2",
   "version": "2.7.11"
  }
 },
 "nbformat": 4,
 "nbformat_minor": 0
}

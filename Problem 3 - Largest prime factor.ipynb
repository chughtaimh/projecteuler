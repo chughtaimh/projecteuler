{
 "cells": [
  {
   "cell_type": "markdown",
   "metadata": {},
   "source": [
    "The prime factors of 13195 are 5, 7, 13 and 29.\n",
    "\n",
    "What is the largest prime factor of the number 600851475143 ?"
   ]
  },
  {
   "cell_type": "code",
   "execution_count": 339,
   "metadata": {
    "collapsed": true
   },
   "outputs": [],
   "source": [
    "from __future__ import division\n",
    "a = 600851475143"
   ]
  },
  {
   "cell_type": "code",
   "execution_count": 340,
   "metadata": {
    "collapsed": false
   },
   "outputs": [],
   "source": [
    "def is_prime(n): return n if 2 in [n,pow(2, n, n)] else None"
   ]
  },
  {
   "cell_type": "code",
   "execution_count": 341,
   "metadata": {
    "collapsed": false
   },
   "outputs": [],
   "source": [
    "def get_primes(n): return [x for x in map(is_prime,factors(n,1)) if x]"
   ]
  },
  {
   "cell_type": "code",
   "execution_count": 342,
   "metadata": {
    "collapsed": false
   },
   "outputs": [],
   "source": [
    "def max_factor(n,iterable): return max([x for x in iterable if n%x==0])"
   ]
  },
  {
   "cell_type": "code",
   "execution_count": 343,
   "metadata": {
    "collapsed": false
   },
   "outputs": [],
   "source": [
    "def largest_prime_factor(n): return max_factor(n,get_primes(n))"
   ]
  },
  {
   "cell_type": "code",
   "execution_count": 345,
   "metadata": {
    "collapsed": false
   },
   "outputs": [
    {
     "data": {
      "text/plain": [
       "6857"
      ]
     },
     "execution_count": 345,
     "metadata": {},
     "output_type": "execute_result"
    }
   ],
   "source": [
    "largest_prime_factor(a)"
   ]
  },
  {
   "cell_type": "code",
   "execution_count": 354,
   "metadata": {
    "collapsed": false
   },
   "outputs": [
    {
     "name": "stdout",
     "output_type": "stream",
     "text": [
      "         52 function calls in 0.188 seconds\n",
      "\n",
      "   Ordered by: standard name\n",
      "\n",
      "   ncalls  tottime  percall  cumtime  percall filename:lineno(function)\n",
      "        1    0.000    0.000    0.000    0.000 :0(map)\n",
      "        1    0.000    0.000    0.000    0.000 :0(max)\n",
      "       16    0.000    0.000    0.000    0.000 :0(pow)\n",
      "        1    0.016    0.016    0.016    0.016 :0(range)\n",
      "        1    0.000    0.000    0.172    0.172 :0(reduce)\n",
      "        1    0.000    0.000    0.000    0.000 :0(setprofile)\n",
      "        1    0.000    0.000    0.188    0.188 <ipython-input-258-ce624eb3ac3d>:1(factors)\n",
      "        9    0.172    0.019    0.172    0.019 <ipython-input-258-ce624eb3ac3d>:3(<genexpr>)\n",
      "       16    0.000    0.000    0.000    0.000 <ipython-input-340-a56c5ae8f5b4>:1(is_prime)\n",
      "        1    0.000    0.000    0.188    0.188 <ipython-input-341-a2c5f056f684>:1(get_primes)\n",
      "        1    0.000    0.000    0.000    0.000 <ipython-input-342-515159c8c418>:1(max_factor)\n",
      "        1    0.000    0.000    0.188    0.188 <ipython-input-343-03cdb3fc267f>:1(largest_prime_factor)\n",
      "        1    0.000    0.000    0.188    0.188 <string>:1(<module>)\n",
      "        1    0.000    0.000    0.188    0.188 profile:0(largest_prime_factor(a))\n",
      "        0    0.000             0.000          profile:0(profiler)\n",
      "\n",
      "\n"
     ]
    }
   ],
   "source": [
    "import profile\n",
    "profile.run('largest_prime_factor(a)')"
   ]
  },
  {
   "cell_type": "code",
   "execution_count": null,
   "metadata": {
    "collapsed": true
   },
   "outputs": [],
   "source": []
  }
 ],
 "metadata": {
  "kernelspec": {
   "display_name": "Python 2",
   "language": "python",
   "name": "python2"
  },
  "language_info": {
   "codemirror_mode": {
    "name": "ipython",
    "version": 2
   },
   "file_extension": ".py",
   "mimetype": "text/x-python",
   "name": "python",
   "nbconvert_exporter": "python",
   "pygments_lexer": "ipython2",
   "version": "2.7.11"
  }
 },
 "nbformat": 4,
 "nbformat_minor": 0
}

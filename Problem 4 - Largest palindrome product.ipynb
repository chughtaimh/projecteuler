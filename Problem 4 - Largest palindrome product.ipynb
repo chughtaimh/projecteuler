{
 "cells": [
  {
   "cell_type": "markdown",
   "metadata": {},
   "source": [
    "A palindromic number reads the same both ways. The largest palindrome made from the product of two 2-digit numbers is 9009 = 91 × 99.\n",
    "\n",
    "Find the largest palindrome made from the product of two 3-digit numbers.\n",
    "\n"
   ]
  },
  {
   "cell_type": "code",
   "execution_count": 1,
   "metadata": {
    "collapsed": true
   },
   "outputs": [],
   "source": [
    "def is_p(n):\n",
    "    return n == int(str(n)[::-1])"
   ]
  },
  {
   "cell_type": "code",
   "execution_count": 2,
   "metadata": {
    "collapsed": false
   },
   "outputs": [
    {
     "data": {
      "text/plain": [
       "906609"
      ]
     },
     "execution_count": 2,
     "metadata": {},
     "output_type": "execute_result"
    }
   ],
   "source": [
    "max_p = max([x * y for x in xrange(100,1000) for y in xrange(100,1000) if is_p(x*y)])\n",
    "max_p"
   ]
  },
  {
   "cell_type": "code",
   "execution_count": 3,
   "metadata": {
    "collapsed": false
   },
   "outputs": [
    {
     "name": "stdout",
     "output_type": "stream",
     "text": [
      "         810004 function calls in 1.804 seconds\n",
      "\n",
      "   Ordered by: standard name\n",
      "\n",
      "   ncalls  tottime  percall  cumtime  percall filename:lineno(function)\n",
      "        1    0.000    0.000    0.000    0.000 :0(max)\n",
      "        1    0.000    0.000    0.000    0.000 :0(setprofile)\n",
      "   810000    1.241    0.000    1.241    0.000 <ipython-input-1-0e6b84d4b5f9>:1(is_p)\n",
      "        1    0.563    0.563    1.804    1.804 <string>:1(<module>)\n",
      "        1    0.000    0.000    1.804    1.804 profile:0(max([x * y for x in xrange(100,1000) for y in xrange(100,1000) if is_p(x*y)]))\n",
      "        0    0.000             0.000          profile:0(profiler)\n",
      "\n",
      "\n"
     ]
    }
   ],
   "source": [
    "import profile\n",
    "profile.run('max([x * y for x in xrange(100,1000) for y in xrange(100,1000) if is_p(x*y)])')"
   ]
  },
  {
   "cell_type": "markdown",
   "metadata": {},
   "source": [
    "That wasn't too tricky, but not let's try running this a little more efficiently!"
   ]
  },
  {
   "cell_type": "markdown",
   "metadata": {},
   "source": [
    " \n"
   ]
  },
  {
   "cell_type": "code",
   "execution_count": 4,
   "metadata": {
    "collapsed": false
   },
   "outputs": [],
   "source": [
    "def generate_p(x,y): return x*y"
   ]
  },
  {
   "cell_type": "code",
   "execution_count": 5,
   "metadata": {
    "collapsed": true
   },
   "outputs": [],
   "source": [
    "def max_p(a,b): \n",
    "    return max([x for x in map(generate_p,xrange(b,a,-1),xrange(b,a,-1)) if is_p(x)])"
   ]
  },
  {
   "cell_type": "code",
   "execution_count": 6,
   "metadata": {
    "collapsed": false
   },
   "outputs": [
    {
     "data": {
      "text/plain": [
       "698896"
      ]
     },
     "execution_count": 6,
     "metadata": {},
     "output_type": "execute_result"
    }
   ],
   "source": [
    "max_p(100,1000)"
   ]
  },
  {
   "cell_type": "code",
   "execution_count": 7,
   "metadata": {
    "collapsed": false
   },
   "outputs": [
    {
     "name": "stdout",
     "output_type": "stream",
     "text": [
      "         1806 function calls in 0.005 seconds\n",
      "\n",
      "   Ordered by: standard name\n",
      "\n",
      "   ncalls  tottime  percall  cumtime  percall filename:lineno(function)\n",
      "        1    0.001    0.001    0.002    0.002 :0(map)\n",
      "        1    0.000    0.000    0.000    0.000 :0(max)\n",
      "        1    0.000    0.000    0.000    0.000 :0(setprofile)\n",
      "      900    0.002    0.000    0.002    0.000 <ipython-input-1-0e6b84d4b5f9>:1(is_p)\n",
      "      900    0.001    0.000    0.001    0.000 <ipython-input-4-59f04bcaddb4>:1(generate_p)\n",
      "        1    0.001    0.001    0.004    0.004 <ipython-input-5-fa412c585adb>:1(max_p)\n",
      "        1    0.000    0.000    0.004    0.004 <string>:1(<module>)\n",
      "        1    0.000    0.000    0.005    0.005 profile:0(max_p(100,1000))\n",
      "        0    0.000             0.000          profile:0(profiler)\n",
      "\n",
      "\n"
     ]
    }
   ],
   "source": [
    "profile.run('max_p(100,1000)')"
   ]
  },
  {
   "cell_type": "markdown",
   "metadata": {},
   "source": [
    "Let's try for products of four digit numbers!"
   ]
  },
  {
   "cell_type": "markdown",
   "metadata": {},
   "source": [
    " "
   ]
  },
  {
   "cell_type": "code",
   "execution_count": 8,
   "metadata": {
    "collapsed": false
   },
   "outputs": [
    {
     "data": {
      "text/plain": [
       "6948496"
      ]
     },
     "execution_count": 8,
     "metadata": {},
     "output_type": "execute_result"
    }
   ],
   "source": [
    "max_p(1000,10000)"
   ]
  },
  {
   "cell_type": "code",
   "execution_count": 9,
   "metadata": {
    "collapsed": false
   },
   "outputs": [
    {
     "name": "stdout",
     "output_type": "stream",
     "text": [
      "         18006 function calls in 0.032 seconds\n",
      "\n",
      "   Ordered by: standard name\n",
      "\n",
      "   ncalls  tottime  percall  cumtime  percall filename:lineno(function)\n",
      "        1    0.008    0.008    0.014    0.014 :0(map)\n",
      "        1    0.000    0.000    0.000    0.000 :0(max)\n",
      "        1    0.000    0.000    0.000    0.000 :0(setprofile)\n",
      "     9000    0.013    0.000    0.013    0.000 <ipython-input-1-0e6b84d4b5f9>:1(is_p)\n",
      "     9000    0.006    0.000    0.006    0.000 <ipython-input-4-59f04bcaddb4>:1(generate_p)\n",
      "        1    0.005    0.005    0.032    0.032 <ipython-input-5-fa412c585adb>:1(max_p)\n",
      "        1    0.000    0.000    0.032    0.032 <string>:1(<module>)\n",
      "        1    0.000    0.000    0.032    0.032 profile:0(max_p(1000,10000))\n",
      "        0    0.000             0.000          profile:0(profiler)\n",
      "\n",
      "\n"
     ]
    }
   ],
   "source": [
    "profile.run('max_p(1000,10000)')"
   ]
  },
  {
   "cell_type": "markdown",
   "metadata": {},
   "source": [
    "How about 5 digit numbers?"
   ]
  },
  {
   "cell_type": "markdown",
   "metadata": {},
   "source": [
    " "
   ]
  },
  {
   "cell_type": "code",
   "execution_count": 12,
   "metadata": {
    "collapsed": false
   },
   "outputs": [
    {
     "name": "stdout",
     "output_type": "stream",
     "text": [
      "         180006 function calls in 0.358 seconds\n",
      "\n",
      "   Ordered by: standard name\n",
      "\n",
      "   ncalls  tottime  percall  cumtime  percall filename:lineno(function)\n",
      "        1    0.065    0.065    0.124    0.124 :0(map)\n",
      "        1    0.000    0.000    0.000    0.000 :0(max)\n",
      "        1    0.000    0.000    0.000    0.000 :0(setprofile)\n",
      "    90000    0.167    0.000    0.167    0.000 <ipython-input-1-0e6b84d4b5f9>:1(is_p)\n",
      "    90000    0.059    0.000    0.059    0.000 <ipython-input-4-59f04bcaddb4>:1(generate_p)\n",
      "        1    0.068    0.068    0.358    0.358 <ipython-input-5-fa412c585adb>:1(max_p)\n",
      "        1    0.000    0.000    0.358    0.358 <string>:1(<module>)\n",
      "        1    0.000    0.000    0.358    0.358 profile:0(max_p(10000,100000))\n",
      "        0    0.000             0.000          profile:0(profiler)\n",
      "\n",
      "\n"
     ]
    }
   ],
   "source": [
    "profile.run('max_p(10000,100000)')"
   ]
  },
  {
   "cell_type": "code",
   "execution_count": null,
   "metadata": {
    "collapsed": true
   },
   "outputs": [],
   "source": []
  }
 ],
 "metadata": {
  "kernelspec": {
   "display_name": "Python 2",
   "language": "python",
   "name": "python2"
  },
  "language_info": {
   "codemirror_mode": {
    "name": "ipython",
    "version": 2
   },
   "file_extension": ".py",
   "mimetype": "text/x-python",
   "name": "python",
   "nbconvert_exporter": "python",
   "pygments_lexer": "ipython2",
   "version": "2.7.11"
  }
 },
 "nbformat": 4,
 "nbformat_minor": 0
}
